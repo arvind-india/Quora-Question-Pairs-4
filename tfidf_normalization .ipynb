{
 "cells": [
  {
   "cell_type": "code",
   "execution_count": 1,
   "metadata": {},
   "outputs": [],
   "source": [
    "# Importing libraries\n",
    "\n",
    "import numpy as np \n",
    "import pandas as pd\n",
    "import matplotlib.pyplot as plt\n",
    "from pandas import DataFrame\n"
   ]
  },
  {
   "cell_type": "code",
   "execution_count": 2,
   "metadata": {},
   "outputs": [],
   "source": [
    "# Reading data\n",
    "data = pd.read_csv(\"quora_duplicate_questions.tsv\", sep=\"\\t\")"
   ]
  },
  {
   "cell_type": "code",
   "execution_count": 3,
   "metadata": {},
   "outputs": [],
   "source": [
    "# cleaning of the data\n",
    "\n",
    "from ipynb.fs.full.Data_preprocessing import clean\n",
    "\n",
    "data['question1'] = data['question1'].apply(clean)\n",
    "data['question2'] = data['question2'].apply(clean)"
   ]
  },
  {
   "cell_type": "code",
   "execution_count": 4,
   "metadata": {},
   "outputs": [],
   "source": [
    "from sklearn.model_selection import train_test_split\n",
    "train_data, test_data = train_test_split(data, test_size = 0.3, random_state = 0)"
   ]
  },
  {
   "cell_type": "code",
   "execution_count": 5,
   "metadata": {},
   "outputs": [],
   "source": [
    "from nltk.tokenize import wordpunct_tokenize as tokenize\n",
    "from nltk.stem.porter import PorterStemmer\n",
    "from sklearn.feature_extraction.text import TfidfVectorizer\n",
    "from scipy.spatial.distance import cosine"
   ]
  },
  {
   "cell_type": "code",
   "execution_count": 6,
   "metadata": {},
   "outputs": [],
   "source": [
    "tfidf_vect = TfidfVectorizer(max_features = 50000)\n",
    "tfidf_vect.fit( pd.Series(list(train_data['question1']) + list(train_data['question2'])).astype(str).unique() )\n",
    "tfidf_1 = tfidf_vect.transform(train_data['question1'])\n",
    "tfidf_2 = tfidf_vect.transform(train_data['question2'])"
   ]
  },
  {
   "cell_type": "code",
   "execution_count": 7,
   "metadata": {},
   "outputs": [],
   "source": [
    "def cosine_similarity(tfidf_1, tfidf_2):\n",
    "    return cosine(tfidf_1.todense(),tfidf_2.todense())\n",
    "\n"
   ]
  },
  {
   "cell_type": "code",
   "execution_count": 8,
   "metadata": {},
   "outputs": [
    {
     "name": "stderr",
     "output_type": "stream",
     "text": [
      "/home/rg99/anaconda3/lib/python3.6/site-packages/scipy/spatial/distance.py:698: RuntimeWarning: invalid value encountered in double_scalars\n",
      "  dist = 1.0 - uv / np.sqrt(uu * vv)\n"
     ]
    }
   ],
   "source": [
    "similarity = []\n",
    "\n",
    "for i in range(0, tfidf_1.shape[0]):\n",
    "    ans = cosine_similarity(tfidf_1[i], tfidf_2[i])\n",
    "    similarity.append(ans)\n"
   ]
  },
  {
   "cell_type": "code",
   "execution_count": 97,
   "metadata": {},
   "outputs": [],
   "source": [
    "def accuracy(similarity, train_data, threshold):\n",
    "    similar = list( [1 if i>threshold else 0 for i in similarity] )\n",
    "    X = list(train_data['is_duplicate'])\n",
    "    false_pos =0\n",
    "    false_neg=0\n",
    "    true_pos=0\n",
    "    true_neg=0\n",
    "\n",
    "    for i in range(0, len(X)):\n",
    "        if(X[i]== similar[i]):\n",
    "            if X[i]==1:\n",
    "                true_pos =1+true_pos\n",
    "            else:\n",
    "                true_neg = 1+true_neg\n",
    "        else:\n",
    "            if X[i]==1:\n",
    "                false_neg =1+false_neg\n",
    "            else:\n",
    "                false_pos  = 1+false_pos\n",
    "        \n",
    "    acc = (true_pos+true_neg)/(true_pos+true_neg+false_pos+false_neg)\n",
    "    acc*=100\n",
    "    print(acc)\n",
    "    return acc      "
   ]
  },
  {
   "cell_type": "code",
   "execution_count": 101,
   "metadata": {},
   "outputs": [],
   "source": [
    "x = np.linspace(-0,1,10)"
   ]
  },
  {
   "cell_type": "code",
   "execution_count": 102,
   "metadata": {},
   "outputs": [
    {
     "data": {
      "text/plain": [
       "array([0.        , 0.11111111, 0.22222222, 0.33333333, 0.44444444,\n",
       "       0.55555556, 0.66666667, 0.77777778, 0.88888889, 1.        ])"
      ]
     },
     "execution_count": 102,
     "metadata": {},
     "output_type": "execute_result"
    }
   ],
   "source": [
    "x"
   ]
  },
  {
   "cell_type": "code",
   "execution_count": 103,
   "metadata": {},
   "outputs": [
    {
     "name": "stdout",
     "output_type": "stream",
     "text": [
      "36.8236379119656\n",
      "34.68373126786642\n",
      "35.087967265364675\n",
      "34.42472341282601\n",
      "33.53038660367558\n",
      "34.70846598799306\n",
      "39.06071667084801\n",
      "45.63909216510073\n",
      "51.421363024420245\n",
      "63.13254629809578\n"
     ]
    },
    {
     "data": {
      "image/png": "[encoded data removed]",
      "text/plain": [
       "<Figure size 432x288 with 1 Axes>"
      ]
     },
     "metadata": {
      "needs_background": "light"
     },
     "output_type": "display_data"
    }
   ],
   "source": [
    "y = []\n",
    "\n",
    "for i in x:\n",
    "    y.append(accuracy(similarity, train_data, i))\n",
    "    \n",
    "plt.plot(x,y)\n",
    "plt.xlabel('threshold')\n",
    "plt.ylabel('accuracy')\n",
    "plt.show()"
   ]
  },
  {
   "cell_type": "code",
   "execution_count": null,
   "metadata": {},
   "outputs": [],
   "source": []
  }
 ],
 "metadata": {
  "kernelspec": {
   "display_name": "Python 3",
   "language": "python",
   "name": "python3"
  },
  "language_info": {
   "codemirror_mode": {
    "name": "ipython",
    "version": 3
   },
   "file_extension": ".py",
   "mimetype": "text/x-python",
   "name": "python",
   "nbconvert_exporter": "python",
   "pygments_lexer": "ipython3",
   "version": "3.6.8"
  }
 },
 "nbformat": 4,
 "nbformat_minor": 2
}
